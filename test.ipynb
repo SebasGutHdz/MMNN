{
 "cells": [
  {
   "cell_type": "code",
   "execution_count": null,
   "id": "4f3115a2",
   "metadata": {},
   "outputs": [],
   "source": [
    "import jax\n",
    "import jax.random as jrandom\n",
    "import jax.numpy as jnp\n",
    "import flax.linen as nn\n",
    "import optax\n",
    "from typing import Sequence, Callable, Optional, Dict, Any\n",
    "import numpy as np\n",
    "\n",
    "from mmnn_jax import SinActivation,SinTUActivation, MMNNLayer, MMNNModel, Train_jax_model\n",
    "\n",
    "\n",
    "\n",
    "import matplotlib.pyplot as plt\n",
    "plt.style.use('figures/images_style.mplstyle')\n",
    "\n"
   ]
  },
  {
   "cell_type": "code",
   "execution_count": null,
   "id": "07e16080",
   "metadata": {},
   "outputs": [],
   "source": [
    "y = lambda x: np.cos(20*np.pi*np.abs(x)**(1.4))+0.5*np.cos(12*np.pi*np.abs(x)**(1.6))\n",
    "\n",
    "# Input data\n",
    "\n",
    "x = jnp.linspace(-1, 1, 1000)\n",
    "x = x.reshape(-1, 1)  # Reshape to 2D array\n",
    "\n",
    "# Target data\n",
    "\n",
    "y_data = y(x)\n",
    "\n",
    "# Plot data\n",
    "\n",
    "plt.figure(figsize=(10, 5))\n",
    "plt.plot(x, y_data, label='Target Function', color='blue')\n",
    "plt.title('Target Function')\n",
    "plt.xlabel('x')\n",
    "plt.ylabel('y')\n",
    "plt.grid()\n",
    "plt.legend()\n"
   ]
  },
  {
   "cell_type": "code",
   "execution_count": null,
   "id": "d592dc11",
   "metadata": {},
   "outputs": [],
   "source": [
    "# Configuration using ranks and widths\n",
    "ranks = [1]+ [18]*2 + [ 1]     # \n",
    "widths = [356]*3      # \n",
    "\n",
    "print(\"Network architecture:\")\n",
    "print(f\"Ranks (dimensions): {ranks}\")\n",
    "print(f\"Widths (hidden layer sizes): {widths}\")\n",
    "\n",
    "# Create model\n",
    "model = MMNNModel(\n",
    "    ranks=ranks,\n",
    "    widths=widths,\n",
    "    activation=SinTUActivation(),\n",
    "    seed=42\n",
    ")\n",
    "\n",
    "scheduler = optax.exponential_decay(\n",
    "    init_value=0.001,  # Initial learning rate\n",
    "    transition_steps=100,  # Number of steps before decay\n",
    "    decay_rate=0.96,  # Decay rate\n",
    "    staircase=True  # Use staircase decay\n",
    ")\n",
    "\n",
    "train_model = Train_jax_model(\n",
    "    model=model,\n",
    "    input_data=x,\n",
    "    target_data=y_data,\n",
    "    optimizer='adam',\n",
    "    loss_fn='mse',\n",
    "    learning_rate=scheduler,\n",
    "    num_epochs=5000,\n",
    "    batch_size=100,\n",
    "    random_seed=42\n",
    ")"
   ]
  },
  {
   "cell_type": "code",
   "execution_count": null,
   "id": "7374821d",
   "metadata": {},
   "outputs": [],
   "source": [
    "params,epochs_dict = train_model.training_loop(print_every=500)"
   ]
  },
  {
   "cell_type": "code",
   "execution_count": null,
   "id": "680bf074",
   "metadata": {},
   "outputs": [],
   "source": [
    "x = jnp.linspace(-1, 1, 2000).reshape(-1, 1)  # Reshape to 2D array for prediction\n",
    "y_data = y(x)\n",
    "y_pred = model.apply(params, x)\n",
    "\n",
    "pred_error = jnp.mean((y_data - y_pred) ** 2)\n",
    "\n",
    "print(f\"MSE: {pred_error:.8f}\")"
   ]
  },
  {
   "cell_type": "code",
   "execution_count": null,
   "id": "ae8c6816",
   "metadata": {},
   "outputs": [],
   "source": [
    "plt.figure(figsize=(10, 5))\n",
    "plt.plot(x, y_data, label='Target Function', color='blue')\n",
    "plt.plot(x, y_pred, label='Model Prediction', color='red', marker='*', alpha=0.5, markersize=1)\n",
    "plt.title('Model Prediction vs Target Function')\n",
    "plt.xlabel('x')\n",
    "plt.ylabel('y')\n",
    "plt.grid()\n",
    "plt.legend()\n",
    "plt.show()"
   ]
  },
  {
   "cell_type": "code",
   "execution_count": null,
   "id": "9b96574e",
   "metadata": {},
   "outputs": [],
   "source": []
  }
 ],
 "metadata": {
  "kernelspec": {
   "display_name": "MMNN",
   "language": "python",
   "name": "python3"
  },
  "language_info": {
   "codemirror_mode": {
    "name": "ipython",
    "version": 3
   },
   "file_extension": ".py",
   "mimetype": "text/x-python",
   "name": "python",
   "nbconvert_exporter": "python",
   "pygments_lexer": "ipython3",
   "version": "3.13.5"
  }
 },
 "nbformat": 4,
 "nbformat_minor": 5
}
